{
 "metadata": {
  "language_info": {
   "codemirror_mode": {
    "name": "ipython",
    "version": 3
   },
   "file_extension": ".py",
   "mimetype": "text/x-python",
   "name": "python",
   "nbconvert_exporter": "python",
   "pygments_lexer": "ipython3",
   "version": "3.9.1-candidate"
  },
  "orig_nbformat": 2,
  "kernelspec": {
   "name": "python3",
   "display_name": "Python 3",
   "language": "python"
  }
 },
 "nbformat": 4,
 "nbformat_minor": 2,
 "cells": [
  {
   "cell_type": "code",
   "execution_count": 1,
   "metadata": {},
   "outputs": [],
   "source": [
    "import matplotlib.pyplot as plt\n",
    "from mpl_toolkits.mplot3d import Axes3D\n",
    "%matplotlib inline\n",
    "\n",
    "import numpy as np\n",
    "from math import *\n",
    "from scipy.signal import argrelextrema\n",
    "\n",
    "import networkx as nx\n",
    "\n",
    "import seaborn as sns\n",
    "sns.set()\n",
    "sns.set_context(\"notebook\", font_scale=1.75, rc={\"lines.linewidth\": 4.0})\n",
    "\n",
    "plt.style.use('https://github.com/dhaitz/matplotlib-stylesheets/raw/master/pitayasmoothie-light.mplstyle')\n",
    "colors = plt.rcParams[\"axes.prop_cycle\"].by_key()[\"color\"]"
   ]
  },
  {
   "cell_type": "code",
   "execution_count": 3,
   "metadata": {},
   "outputs": [],
   "source": [
    "def readEdges(filename):\n",
    "    edges=np.loadtxt(filename)\n",
    "    edges.sort()\n",
    "    edges.sort(axis=0)\n",
    "    return edges\n",
    "\n",
    "def readTrigs(filename):\n",
    "    trigs=np.loadtxt(filename)\n",
    "    trigs.sort()\n",
    "    trigs.sort(axis=0)\n",
    "    return trigs"
   ]
  },
  {
   "cell_type": "code",
   "execution_count": 4,
   "metadata": {},
   "outputs": [],
   "source": [
    "def B1fromEdges(n, edges):\n",
    "    B1=np.zeros((n, edges.shape[0]))\n",
    "\n",
    "    for i in range(edges.shape[0]):\n",
    "        B1[int(edges[i, 0]),i]=-1\n",
    "        B1[int(edges[i, 1]),i]=1\n",
    "    return B1\n",
    "\n",
    "def B2fromTrig(n, edges, trigs):\n",
    "    B2=np.zeros((len(edges), trigs.shape[0]))\n",
    "\n",
    "    for i in range(trigs.shape[0]):\n",
    "        B2[np.where((edges==np.array([trigs[i, 0], trigs[i, 1]])).all(axis=1))[0][0] ,i]=1\n",
    "        B2[np.where((edges==np.array([trigs[i, 0], trigs[i, 2]])).all(axis=1))[0][0] ,i]=1\n",
    "        B2[np.where((edges==np.array([trigs[i, 1], trigs[i, 2]])).all(axis=1))[0][0] ,i]=-1\n",
    "    return B2"
   ]
  },
  {
   "cell_type": "code",
   "execution_count": 5,
   "metadata": {},
   "outputs": [],
   "source": [
    "n=7\n",
    "edges=readEdges('6.edges')\n",
    "trigs=readTrigs('6.trigs')\n",
    "B1=B1fromEdges(n, edges)\n",
    "B2=B2fromTrig(n, edges, trigs)"
   ]
  },
  {
   "cell_type": "code",
   "execution_count": 6,
   "metadata": {},
   "outputs": [],
   "source": [
    "def getRandomWeights(edges):\n",
    "    return np.random.uniform(size=(edges.shape[0]))"
   ]
  },
  {
   "cell_type": "code",
   "execution_count": 33,
   "metadata": {},
   "outputs": [
    {
     "output_type": "execute_result",
     "data": {
      "text/plain": [
       "array([0.2615701 , 0.17590094, 0.84596325, 0.79919145, 0.52594933,\n",
       "       0.312409  , 0.03899555, 0.66826175, 0.24995244, 0.13163022])"
      ]
     },
     "metadata": {},
     "execution_count": 33
    }
   ],
   "source": [
    "w=getRandomWeights(edges)\n",
    "#w=np.array([1, 1, 1, 1, 1, 1, 1, 0.25, 1, 1])\n",
    "w"
   ]
  },
  {
   "cell_type": "code",
   "execution_count": 34,
   "metadata": {},
   "outputs": [],
   "source": [
    "def getAdjB1(B1):\n",
    "    return np.diag(np.diag(B1.dot(B1.T)))-B1.dot(B1.T)"
   ]
  },
  {
   "cell_type": "code",
   "execution_count": 35,
   "metadata": {},
   "outputs": [],
   "source": [
    "A=getAdjB1(B1)\n",
    "G = nx.from_numpy_matrix(np.array(A))  \n",
    "pos = nx.spring_layout(G)"
   ]
  },
  {
   "cell_type": "code",
   "execution_count": 36,
   "metadata": {},
   "outputs": [],
   "source": [
    "def inv(A, thr=1e-10):\n",
    "    w=np.diag(A)\n",
    "    ans=np.zeros(w.shape[0])\n",
    "    ans[np.abs(w)<thr]=0\n",
    "    ans[np.abs(w)>=thr]=np.divide(1, w[np.abs(w)>=thr])\n",
    "    return np.diag(ans)"
   ]
  },
  {
   "cell_type": "code",
   "execution_count": 37,
   "metadata": {},
   "outputs": [],
   "source": [
    "def getPosFromB1(B1):\n",
    "    A=getAdjB1(B1)\n",
    "    G = nx.from_numpy_matrix(np.array(A))  \n",
    "    pos = nx.spring_layout(G)\n",
    "    return np.array(list(pos.values()))"
   ]
  },
  {
   "cell_type": "code",
   "execution_count": 38,
   "metadata": {},
   "outputs": [
    {
     "output_type": "display_data",
     "data": {
      "text/plain": "<Figure size 576x576 with 1 Axes>",
      "image/svg+xml": "<?xml version=\"1.0\" encoding=\"utf-8\" standalone=\"no\"?>\n<!DOCTYPE svg PUBLIC \"-//W3C//DTD SVG 1.1//EN\"\n  \"http://www.w3.org/Graphics/SVG/1.1/DTD/svg11.dtd\">\n<!-- Created with matplotlib (https://matplotlib.org/) -->\n<svg height=\"470.601289pt\" version=\"1.1\" viewBox=\"0 0 513.005508 470.601289\" width=\"513.005508pt\" xmlns=\"http://www.w3.org/2000/svg\" xmlns:xlink=\"http://www.w3.org/1999/xlink\">\n <metadata>\n  <rdf:RDF xmlns:cc=\"http://creativecommons.org/ns#\" xmlns:dc=\"http://purl.org/dc/elements/1.1/\" xmlns:rdf=\"http://www.w3.org/1999/02/22-rdf-syntax-ns#\">\n   <cc:Work>\n    <dc:type rdf:resource=\"http://purl.org/dc/dcmitype/StillImage\"/>\n    <dc:date>2020-12-15T10:54:42.767983</dc:date>\n    <dc:format>image/svg+xml</dc:format>\n    <dc:creator>\n     <cc:Agent>\n      <dc:title>Matplotlib v3.3.3, https://matplotlib.org/</dc:title>\n     </cc:Agent>\n    </dc:creator>\n   </cc:Work>\n  </rdf:RDF>\n </metadata>\n <defs>\n  <style type=\"text/css\">*{stroke-linecap:butt;stroke-linejoin:round;}</style>\n </defs>\n <g id=\"figure_1\">\n  <g id=\"patch_1\">\n   <path d=\"M 0 470.601289 \nL 513.005508 470.601289 \nL 513.005508 0 \nL 0 0 \nz\n\" style=\"fill:#fefeff;\"/>\n  </g>\n  <g id=\"axes_1\">\n   <g id=\"patch_2\">\n    <path d=\"M 59.405508 442.08 \nL 505.805508 442.08 \nL 505.805508 7.2 \nL 59.405508 7.2 \nz\n\" style=\"fill:#eaeaf2;\"/>\n   </g>\n   <g id=\"matplotlib.axis_1\">\n    <g id=\"xtick_1\">\n     <g id=\"text_1\">\n      <!-- −0.4 -->\n      <g style=\"fill:#262626;\" transform=\"translate(121.658148 459.388867)scale(0.1925 -0.1925)\">\n       <defs>\n        <path d=\"M 55.421875 29.59375 \nL 55.421875 21.390625 \nL 4.5 21.390625 \nL 4.5 29.59375 \nz\n\" id=\"Helvetica-8722\"/>\n        <path d=\"M 27.046875 69.921875 \nQ 40.625 69.921875 46.6875 58.734375 \nQ 51.375 50.09375 51.375 35.0625 \nQ 51.375 20.796875 47.125 11.46875 \nQ 40.96875 -1.90625 27 -1.90625 \nQ 14.40625 -1.90625 8.25 9.03125 \nQ 3.125 18.171875 3.125 33.546875 \nQ 3.125 45.453125 6.203125 54 \nQ 11.96875 69.921875 27.046875 69.921875 \nz\nM 26.953125 6.109375 \nQ 33.796875 6.109375 37.84375 12.15625 \nQ 41.890625 18.21875 41.890625 34.71875 \nQ 41.890625 46.625 38.953125 54.3125 \nQ 36.03125 62.015625 27.59375 62.015625 \nQ 19.828125 62.015625 16.234375 54.703125 \nQ 12.640625 47.40625 12.640625 33.203125 \nQ 12.640625 22.515625 14.9375 16.015625 \nQ 18.453125 6.109375 26.953125 6.109375 \nz\n\" id=\"Helvetica-48\"/>\n        <path d=\"M 8.546875 10.640625 \nL 18.75 10.640625 \nL 18.75 0 \nL 8.546875 0 \nz\n\" id=\"Helvetica-46\"/>\n        <path d=\"M 33.0625 24.75 \nL 33.0625 56.453125 \nL 10.640625 24.75 \nz\nM 33.203125 0 \nL 33.203125 17.09375 \nL 2.546875 17.09375 \nL 2.546875 25.6875 \nL 34.578125 70.125 \nL 42 70.125 \nL 42 24.75 \nL 52.296875 24.75 \nL 52.296875 17.09375 \nL 42 17.09375 \nL 42 0 \nz\n\" id=\"Helvetica-52\"/>\n       </defs>\n       <use xlink:href=\"#Helvetica-8722\"/>\n       <use x=\"58.398438\" xlink:href=\"#Helvetica-48\"/>\n       <use x=\"114.013672\" xlink:href=\"#Helvetica-46\"/>\n       <use x=\"141.796875\" xlink:href=\"#Helvetica-52\"/>\n      </g>\n     </g>\n    </g>\n    <g id=\"xtick_2\">\n     <g id=\"text_2\">\n      <!-- −0.2 -->\n      <g style=\"fill:#262626;\" transform=\"translate(206.68952 459.388867)scale(0.1925 -0.1925)\">\n       <defs>\n        <path d=\"M 3.125 0 \nQ 3.609375 9.03125 6.859375 15.71875 \nQ 10.109375 22.40625 19.53125 27.875 \nL 28.90625 33.296875 \nQ 35.203125 36.96875 37.75 39.546875 \nQ 41.75 43.609375 41.75 48.828125 \nQ 41.75 54.9375 38.078125 58.515625 \nQ 34.421875 62.109375 28.328125 62.109375 \nQ 19.28125 62.109375 15.828125 55.28125 \nQ 13.96875 51.609375 13.765625 45.125 \nL 4.828125 45.125 \nQ 4.984375 54.25 8.203125 60.015625 \nQ 13.921875 70.171875 28.375 70.171875 \nQ 40.375 70.171875 45.921875 63.671875 \nQ 51.46875 57.171875 51.46875 49.21875 \nQ 51.46875 40.828125 45.5625 34.859375 \nQ 42.140625 31.390625 33.296875 26.46875 \nL 26.609375 22.75 \nQ 21.828125 20.125 19.09375 17.71875 \nQ 14.203125 13.484375 12.9375 8.296875 \nL 51.125 8.296875 \nL 51.125 0 \nL 3.125 0 \nz\n\" id=\"Helvetica-50\"/>\n       </defs>\n       <use xlink:href=\"#Helvetica-8722\"/>\n       <use x=\"58.398438\" xlink:href=\"#Helvetica-48\"/>\n       <use x=\"114.013672\" xlink:href=\"#Helvetica-46\"/>\n       <use x=\"141.796875\" xlink:href=\"#Helvetica-50\"/>\n      </g>\n     </g>\n    </g>\n    <g id=\"xtick_3\">\n     <g id=\"text_3\">\n      <!-- 0.0 -->\n      <g style=\"fill:#262626;\" transform=\"translate(297.342494 459.388867)scale(0.1925 -0.1925)\">\n       <use xlink:href=\"#Helvetica-48\"/>\n       <use x=\"55.615234\" xlink:href=\"#Helvetica-46\"/>\n       <use x=\"83.398438\" xlink:href=\"#Helvetica-48\"/>\n      </g>\n     </g>\n    </g>\n    <g id=\"xtick_4\">\n     <g id=\"text_4\">\n      <!-- 0.2 -->\n      <g style=\"fill:#262626;\" transform=\"translate(382.373866 459.388867)scale(0.1925 -0.1925)\">\n       <use xlink:href=\"#Helvetica-48\"/>\n       <use x=\"55.615234\" xlink:href=\"#Helvetica-46\"/>\n       <use x=\"83.398438\" xlink:href=\"#Helvetica-50\"/>\n      </g>\n     </g>\n    </g>\n    <g id=\"xtick_5\">\n     <g id=\"text_5\">\n      <!-- 0.4 -->\n      <g style=\"fill:#262626;\" transform=\"translate(467.405238 459.388867)scale(0.1925 -0.1925)\">\n       <use xlink:href=\"#Helvetica-48\"/>\n       <use x=\"55.615234\" xlink:href=\"#Helvetica-46\"/>\n       <use x=\"83.398438\" xlink:href=\"#Helvetica-52\"/>\n      </g>\n     </g>\n    </g>\n   </g>\n   <g id=\"matplotlib.axis_2\">\n    <g id=\"ytick_1\">\n     <g id=\"text_6\">\n      <!-- −0.75 -->\n      <g style=\"fill:#262626;\" transform=\"translate(7.2 416.26753)scale(0.1925 -0.1925)\">\n       <defs>\n        <path d=\"M 52.296875 68.75 \nL 52.296875 61.078125 \nQ 48.921875 57.8125 43.328125 49.703125 \nQ 37.75 41.609375 33.453125 32.234375 \nQ 29.203125 23.09375 27 15.578125 \nQ 25.59375 10.75 23.34375 0 \nL 13.625 0 \nQ 16.9375 20.015625 28.265625 39.84375 \nQ 34.96875 51.46875 42.328125 59.90625 \nL 3.65625 59.90625 \nL 3.65625 68.75 \nz\n\" id=\"Helvetica-55\"/>\n        <path d=\"M 12.359375 17.828125 \nQ 13.234375 10.296875 19.34375 7.421875 \nQ 22.46875 5.953125 26.5625 5.953125 \nQ 34.375 5.953125 38.125 10.9375 \nQ 41.890625 15.921875 41.890625 21.96875 \nQ 41.890625 29.296875 37.421875 33.296875 \nQ 32.953125 37.3125 26.703125 37.3125 \nQ 22.171875 37.3125 18.921875 35.546875 \nQ 15.671875 33.796875 13.375 30.671875 \nL 5.765625 31.109375 \nL 11.078125 68.75 \nL 47.40625 68.75 \nL 47.40625 60.25 \nL 17.671875 60.25 \nL 14.703125 40.828125 \nQ 17.140625 42.671875 19.34375 43.609375 \nQ 23.25 45.21875 28.375 45.21875 \nQ 37.984375 45.21875 44.671875 39.015625 \nQ 51.375 32.8125 51.375 23.296875 \nQ 51.375 13.375 45.234375 5.796875 \nQ 39.109375 -1.765625 25.6875 -1.765625 \nQ 17.140625 -1.765625 10.5625 3.046875 \nQ 4 7.859375 3.21875 17.828125 \nz\n\" id=\"Helvetica-53\"/>\n       </defs>\n       <use xlink:href=\"#Helvetica-8722\"/>\n       <use x=\"58.398438\" xlink:href=\"#Helvetica-48\"/>\n       <use x=\"114.013672\" xlink:href=\"#Helvetica-46\"/>\n       <use x=\"141.796875\" xlink:href=\"#Helvetica-55\"/>\n       <use x=\"197.412109\" xlink:href=\"#Helvetica-53\"/>\n      </g>\n     </g>\n    </g>\n    <g id=\"ytick_2\">\n     <g id=\"text_7\">\n      <!-- −0.50 -->\n      <g style=\"fill:#262626;\" transform=\"translate(7.2 361.639555)scale(0.1925 -0.1925)\">\n       <use xlink:href=\"#Helvetica-8722\"/>\n       <use x=\"58.398438\" xlink:href=\"#Helvetica-48\"/>\n       <use x=\"114.013672\" xlink:href=\"#Helvetica-46\"/>\n       <use x=\"141.796875\" xlink:href=\"#Helvetica-53\"/>\n       <use x=\"197.412109\" xlink:href=\"#Helvetica-48\"/>\n      </g>\n     </g>\n    </g>\n    <g id=\"ytick_3\">\n     <g id=\"text_8\">\n      <!-- −0.25 -->\n      <g style=\"fill:#262626;\" transform=\"translate(7.2 307.011581)scale(0.1925 -0.1925)\">\n       <use xlink:href=\"#Helvetica-8722\"/>\n       <use x=\"58.398438\" xlink:href=\"#Helvetica-48\"/>\n       <use x=\"114.013672\" xlink:href=\"#Helvetica-46\"/>\n       <use x=\"141.796875\" xlink:href=\"#Helvetica-50\"/>\n       <use x=\"197.412109\" xlink:href=\"#Helvetica-53\"/>\n      </g>\n     </g>\n    </g>\n    <g id=\"ytick_4\">\n     <g id=\"text_9\">\n      <!-- 0.00 -->\n      <g style=\"fill:#262626;\" transform=\"translate(18.443203 252.383606)scale(0.1925 -0.1925)\">\n       <use xlink:href=\"#Helvetica-48\"/>\n       <use x=\"55.615234\" xlink:href=\"#Helvetica-46\"/>\n       <use x=\"83.398438\" xlink:href=\"#Helvetica-48\"/>\n       <use x=\"139.013672\" xlink:href=\"#Helvetica-48\"/>\n      </g>\n     </g>\n    </g>\n    <g id=\"ytick_5\">\n     <g id=\"text_10\">\n      <!-- 0.25 -->\n      <g style=\"fill:#262626;\" transform=\"translate(18.443203 197.755631)scale(0.1925 -0.1925)\">\n       <use xlink:href=\"#Helvetica-48\"/>\n       <use x=\"55.615234\" xlink:href=\"#Helvetica-46\"/>\n       <use x=\"83.398438\" xlink:href=\"#Helvetica-50\"/>\n       <use x=\"139.013672\" xlink:href=\"#Helvetica-53\"/>\n      </g>\n     </g>\n    </g>\n    <g id=\"ytick_6\">\n     <g id=\"text_11\">\n      <!-- 0.50 -->\n      <g style=\"fill:#262626;\" transform=\"translate(18.443203 143.127656)scale(0.1925 -0.1925)\">\n       <use xlink:href=\"#Helvetica-48\"/>\n       <use x=\"55.615234\" xlink:href=\"#Helvetica-46\"/>\n       <use x=\"83.398438\" xlink:href=\"#Helvetica-53\"/>\n       <use x=\"139.013672\" xlink:href=\"#Helvetica-48\"/>\n      </g>\n     </g>\n    </g>\n    <g id=\"ytick_7\">\n     <g id=\"text_12\">\n      <!-- 0.75 -->\n      <g style=\"fill:#262626;\" transform=\"translate(18.443203 88.499681)scale(0.1925 -0.1925)\">\n       <use xlink:href=\"#Helvetica-48\"/>\n       <use x=\"55.615234\" xlink:href=\"#Helvetica-46\"/>\n       <use x=\"83.398438\" xlink:href=\"#Helvetica-55\"/>\n       <use x=\"139.013672\" xlink:href=\"#Helvetica-53\"/>\n      </g>\n     </g>\n    </g>\n    <g id=\"ytick_8\">\n     <g id=\"text_13\">\n      <!-- 1.00 -->\n      <g style=\"fill:#262626;\" transform=\"translate(18.443203 33.871706)scale(0.1925 -0.1925)\">\n       <defs>\n        <path d=\"M 9.578125 49.515625 \nL 9.578125 56.25 \nQ 19.09375 57.171875 22.84375 59.34375 \nQ 26.609375 61.53125 28.46875 69.625 \nL 35.40625 69.625 \nL 35.40625 0 \nL 26.03125 0 \nL 26.03125 49.515625 \nz\n\" id=\"Helvetica-49\"/>\n       </defs>\n       <use xlink:href=\"#Helvetica-49\"/>\n       <use x=\"55.615234\" xlink:href=\"#Helvetica-46\"/>\n       <use x=\"83.398438\" xlink:href=\"#Helvetica-48\"/>\n       <use x=\"139.013672\" xlink:href=\"#Helvetica-48\"/>\n      </g>\n     </g>\n    </g>\n   </g>\n   <g id=\"line2d_1\">\n    <defs>\n     <path d=\"M 0 20 \nC 5.304062 20 10.391597 17.892674 14.142136 14.142136 \nC 17.892674 10.391597 20 5.304062 20 0 \nC 20 -5.304062 17.892674 -10.391597 14.142136 -14.142136 \nC 10.391597 -17.892674 5.304062 -20 0 -20 \nC -5.304062 -20 -10.391597 -17.892674 -14.142136 -14.142136 \nC -17.892674 -10.391597 -20 -5.304062 -20 0 \nC -20 5.304062 -17.892674 10.391597 -14.142136 14.142136 \nC -10.391597 17.892674 -5.304062 20 0 20 \nz\n\" id=\"m2138bb189c\" style=\"stroke:#f3907e;\"/>\n    </defs>\n    <g clip-path=\"url(#pab63849bac)\">\n     <use style=\"fill:#f3907e;stroke:#f3907e;\" x=\"404.380505\" xlink:href=\"#m2138bb189c\" y=\"26.967273\"/>\n     <use style=\"fill:#f3907e;stroke:#f3907e;\" x=\"485.514599\" xlink:href=\"#m2138bb189c\" y=\"141.383738\"/>\n     <use style=\"fill:#f3907e;stroke:#f3907e;\" x=\"273.474744\" xlink:href=\"#m2138bb189c\" y=\"137.846129\"/>\n     <use style=\"fill:#f3907e;stroke:#f3907e;\" x=\"433.923276\" xlink:href=\"#m2138bb189c\" y=\"289.96198\"/>\n     <use style=\"fill:#f3907e;stroke:#f3907e;\" x=\"206.414698\" xlink:href=\"#m2138bb189c\" y=\"298.073132\"/>\n     <use style=\"fill:#f3907e;stroke:#f3907e;\" x=\"291.644467\" xlink:href=\"#m2138bb189c\" y=\"401.809226\"/>\n     <use style=\"fill:#f3907e;stroke:#f3907e;\" x=\"79.696417\" xlink:href=\"#m2138bb189c\" y=\"422.312727\"/>\n    </g>\n   </g>\n   <g id=\"line2d_2\">\n    <path clip-path=\"url(#pab63849bac)\" d=\"M 404.380505 26.967273 \nL 485.514599 141.383738 \n\" style=\"fill:none;stroke:#18c0c4;stroke-linecap:round;stroke-opacity:0.511439;stroke-width:4;\"/>\n   </g>\n   <g id=\"line2d_3\">\n    <path clip-path=\"url(#pab63849bac)\" d=\"M 404.380505 26.967273 \nL 273.474744 137.846129 \n\" style=\"fill:none;stroke:#18c0c4;stroke-linecap:round;stroke-opacity:0.419405;stroke-width:4;\"/>\n   </g>\n   <g id=\"line2d_4\">\n    <path clip-path=\"url(#pab63849bac)\" d=\"M 485.514599 141.383738 \nL 273.474744 137.846129 \n\" style=\"fill:none;stroke:#18c0c4;stroke-linecap:round;stroke-opacity:0.919763;stroke-width:4;\"/>\n   </g>\n   <g id=\"line2d_5\">\n    <path clip-path=\"url(#pab63849bac)\" d=\"M 485.514599 141.383738 \nL 433.923276 289.96198 \n\" style=\"fill:none;stroke:#18c0c4;stroke-linecap:round;stroke-opacity:0.893975;stroke-width:4;\"/>\n   </g>\n   <g id=\"line2d_6\">\n    <path clip-path=\"url(#pab63849bac)\" d=\"M 273.474744 137.846129 \nL 206.414698 298.073132 \n\" style=\"fill:none;stroke:#18c0c4;stroke-linecap:round;stroke-opacity:0.725224;stroke-width:4;\"/>\n   </g>\n   <g id=\"line2d_7\">\n    <path clip-path=\"url(#pab63849bac)\" d=\"M 433.923276 289.96198 \nL 206.414698 298.073132 \n\" style=\"fill:none;stroke:#18c0c4;stroke-linecap:round;stroke-opacity:0.558936;stroke-width:4;\"/>\n   </g>\n   <g id=\"line2d_8\">\n    <path clip-path=\"url(#pab63849bac)\" d=\"M 433.923276 289.96198 \nL 291.644467 401.809226 \n\" style=\"fill:none;stroke:#18c0c4;stroke-linecap:round;stroke-opacity:0.197473;stroke-width:4;\"/>\n   </g>\n   <g id=\"line2d_9\">\n    <path clip-path=\"url(#pab63849bac)\" d=\"M 206.414698 298.073132 \nL 291.644467 401.809226 \n\" style=\"fill:none;stroke:#18c0c4;stroke-linecap:round;stroke-opacity:0.817473;stroke-width:4;\"/>\n   </g>\n   <g id=\"line2d_10\">\n    <path clip-path=\"url(#pab63849bac)\" d=\"M 206.414698 298.073132 \nL 79.696417 422.312727 \n\" style=\"fill:none;stroke:#18c0c4;stroke-linecap:round;stroke-opacity:0.499952;stroke-width:4;\"/>\n   </g>\n   <g id=\"line2d_11\">\n    <path clip-path=\"url(#pab63849bac)\" d=\"M 291.644467 401.809226 \nL 79.696417 422.312727 \n\" style=\"fill:none;stroke:#18c0c4;stroke-linecap:round;stroke-opacity:0.362809;stroke-width:4;\"/>\n   </g>\n   <g id=\"patch_3\">\n    <path d=\"M 59.405508 442.08 \nL 59.405508 7.2 \n\" style=\"fill:none;\"/>\n   </g>\n   <g id=\"patch_4\">\n    <path d=\"M 505.805508 442.08 \nL 505.805508 7.2 \n\" style=\"fill:none;\"/>\n   </g>\n   <g id=\"patch_5\">\n    <path d=\"M 59.405508 442.08 \nL 505.805508 442.08 \n\" style=\"fill:none;\"/>\n   </g>\n   <g id=\"patch_6\">\n    <path d=\"M 59.405508 7.2 \nL 505.805508 7.2 \n\" style=\"fill:none;\"/>\n   </g>\n  </g>\n </g>\n <defs>\n  <clipPath id=\"pab63849bac\">\n   <rect height=\"434.88\" width=\"446.4\" x=\"59.405508\" y=\"7.2\"/>\n  </clipPath>\n </defs>\n</svg>\n",
      "image/png": "[encoded data removed]"
     },
     "metadata": {}
    }
   ],
   "source": [
    "points=getPosFromB1(B1)\n",
    "plt.figure(figsize=(8,8))\n",
    "#plt.triplot(points[:,0], points[:,1], tri.simplices)\n",
    "plt.plot(points[:,0], points[:,1], 'o', color=colors[4], markersize=40)\n",
    "\n",
    "for i in range(edges.shape[0]):\n",
    "    plt.plot(points[edges[i].astype(int), 0], points[edges[i].astype(int), 1], color=colors[3], alpha=np.sqrt(w[i]))\n",
    "plt.grid(False)"
   ]
  },
  {
   "cell_type": "code",
   "execution_count": 39,
   "metadata": {},
   "outputs": [],
   "source": [
    "def simpleDrawB1(B1, w, points, eps=0, e=0):\n",
    "    \n",
    "    plt.figure(figsize=(8,8))\n",
    "    plt.plot(points[:,0], points[:,1], 'o', color=colors[4], markersize=40)\n",
    "    for i in range(points.shape[0]):\n",
    "        plt.annotate(str(i), (points[i,0], points[i,1]))\n",
    "    for i in range(edges.shape[0]):\n",
    "        plt.plot(points[edges[i].astype(int), 0], points[edges[i].astype(int), 1], color=colors[3], linewidth=8*((np.sqrt(w)+eps*e)**2)[i])\n",
    "    plt.grid(False)\n",
    "    plt.xticks([], [])\n",
    "    plt.yticks([], [])"
   ]
  },
  {
   "cell_type": "code",
   "execution_count": 40,
   "metadata": {},
   "outputs": [],
   "source": [
    "def getDt(B2, W):\n",
    "    w_t=np.diag(W).reshape(-1, 1)\n",
    "    ones=np.ones(B2.shape[1]).reshape(-1, 1)\n",
    "    tmp=np.multiply(ones.dot(w_t.T), np.abs(B2).T)\n",
    "    minval = np.min(tmp[np.nonzero(tmp)].reshape(3, B2.shape[1]), axis=1)\n",
    "    return np.diag(minval)"
   ]
  },
  {
   "cell_type": "code",
   "execution_count": 41,
   "metadata": {},
   "outputs": [],
   "source": [
    "def HodgeLW_fr(B1, B2, w, e=0, eps=0):\n",
    "    W=np.diag(np.sqrt(w)+eps*e)\n",
    "    Dt=getDt(B2, W)\n",
    "    L1=W.dot(B1.T.dot(B1.dot(W)))+inv(W).dot(B2.dot(Dt.dot(Dt.dot(B2.T)).dot(inv(W))))\n",
    "    return L1"
   ]
  },
  {
   "cell_type": "code",
   "execution_count": 42,
   "metadata": {},
   "outputs": [
    {
     "output_type": "execute_result",
     "data": {
      "text/plain": [
       "array([[ 1.19562126,  1.03454983, -0.84433962, -0.45721394,  0.        ,\n",
       "         0.        ,  0.        ,  0.        ,  0.        ,  0.        ],\n",
       "       [ 1.03454983,  1.35180187, -0.07023971,  0.        , -0.30416275,\n",
       "         0.        ,  0.        ,  0.        ,  0.        ,  0.        ],\n",
       "       [-0.84433962, -0.07023971,  1.89985625,  0.82224485, -0.66703359,\n",
       "         0.        ,  0.        ,  0.        ,  0.        ,  0.        ],\n",
       "       [-0.45721394,  0.        ,  0.82224485,  1.5983829 ,  0.        ,\n",
       "        -0.4996745 , -0.17653587,  0.        ,  0.        ,  0.        ],\n",
       "       [ 0.        , -0.30416275, -0.66703359,  0.        ,  1.05189867,\n",
       "         0.40535331,  0.        , -0.59285059, -0.36257733,  0.        ],\n",
       "       [ 0.        ,  0.        ,  0.        , -0.4996745 ,  0.40535331,\n",
       "         0.74964013,  0.46367638, -0.54226002, -0.27944122,  0.        ],\n",
       "       [ 0.        ,  0.        ,  0.        , -0.17653587,  0.        ,\n",
       "         0.46367638,  1.07799111, -0.08013639,  0.        , -0.07164491],\n",
       "       [ 0.        ,  0.        ,  0.        ,  0.        , -0.59285059,\n",
       "        -0.54226002, -0.08013639,  1.59185126,  0.73077   , -0.74040391],\n",
       "       [ 0.        ,  0.        ,  0.        ,  0.        , -0.36257733,\n",
       "        -0.27944122,  0.        ,  0.73077   ,  1.02652596, -0.54429948],\n",
       "       [ 0.        ,  0.        ,  0.        ,  0.        ,  0.        ,\n",
       "         0.        , -0.07164491, -0.74040391, -0.54429948,  1.26326045]])"
      ]
     },
     "metadata": {},
     "execution_count": 42
    }
   ],
   "source": [
    "L1=HodgeLW_fr(B1, B2, w)\n",
    "L1"
   ]
  },
  {
   "cell_type": "code",
   "execution_count": 43,
   "metadata": {},
   "outputs": [],
   "source": [
    "def getL1k(L1, thr=1e-8):\n",
    "    return np.sum(np.abs(np.linalg.eig(L1)[0])<thr)"
   ]
  },
  {
   "cell_type": "code",
   "execution_count": 44,
   "metadata": {},
   "outputs": [
    {
     "output_type": "execute_result",
     "data": {
      "text/plain": [
       "1"
      ]
     },
     "metadata": {},
     "execution_count": 44
    }
   ],
   "source": [
    "k=getL1k(L1)\n",
    "k"
   ]
  },
  {
   "cell_type": "code",
   "execution_count": 45,
   "metadata": {},
   "outputs": [],
   "source": [
    "def getFk_l2(L1, k, thr=1e-8):\n",
    "    #k=getL1k(L1, thr=thr)\n",
    "    vals, vecs=np.linalg.eig(L1)\n",
    "    idx = vals.argsort() \n",
    "    vals = vals[idx]\n",
    "    \n",
    "    return np.sqrt(np.sum(np.power(vals[:k+1], 2)))"
   ]
  },
  {
   "cell_type": "code",
   "execution_count": 46,
   "metadata": {},
   "outputs": [
    {
     "output_type": "execute_result",
     "data": {
      "text/plain": [
       "0.03818844330489207"
      ]
     },
     "metadata": {},
     "execution_count": 46
    }
   ],
   "source": [
    "getFk_l2(L1, 1)"
   ]
  },
  {
   "cell_type": "code",
   "execution_count": 47,
   "metadata": {},
   "outputs": [],
   "source": [
    "eps=0.5\n",
    "e=np.random.uniform(size=w.shape[0])\n",
    "e=e/np.linalg.norm(e)"
   ]
  },
  {
   "cell_type": "code",
   "execution_count": 48,
   "metadata": {},
   "outputs": [],
   "source": [
    "def Sym(A):\n",
    "    return 0.5*(A+A.T)"
   ]
  },
  {
   "cell_type": "code",
   "execution_count": 49,
   "metadata": {},
   "outputs": [],
   "source": [
    "L1_E=HodgeLW_fr(B1, B2, w, e, eps)\n",
    "vals, vecs=np.linalg.eig(L1_E)\n",
    "idx = vals.argsort()\n",
    "vals = vals[idx]\n",
    "vecs = vecs[:,idx]\n",
    "\n",
    "def getG_i(i, B1, B2, L1_E, vecs, w, e, eps):\n",
    "    W=np.diag(np.sqrt(w)+eps*e)\n",
    "    x=vecs[:, i].reshape(-1, 1)\n",
    "    Dt=getDt(B2, W)\n",
    "    P2=inv(W).dot(B2.dot(Dt.dot(Dt.dot(B2.T.dot(inv(W))))))\n",
    "    w_t=np.diag(W).reshape(-1, 1)\n",
    "    ones=np.ones(B2.shape[1]).reshape(-1, 1)\n",
    "    tmp=np.multiply(ones.dot(w_t.T), np.abs(B2).T)\n",
    "    M=np.zeros(B2.T.shape )\n",
    "    tmp[tmp==0]=2*np.max(w_t)\n",
    "    ind=np.argmax(-tmp, axis=1)\n",
    "    M[np.arange(0,M.shape[0],1), ind]=1\n",
    "    Add=np.diag(M.T.dot(np.diag(B2.T.dot(inv(W).dot(x.dot(x.T.dot(inv(W).dot(B2.dot(Dt)))))))))\n",
    "    Gi=2.*Sym(B1.T.dot(B1.dot(W.dot(x.dot(x.T)))) - inv(W).dot(x.dot(x.T.dot(P2))))+2.*Add\n",
    "    return x.T.dot(L1_E.dot(x))*Gi"
   ]
  },
  {
   "cell_type": "code",
   "execution_count": 50,
   "metadata": {},
   "outputs": [
    {
     "output_type": "execute_result",
     "data": {
      "text/plain": [
       "array([[-3.77248721e-31, -2.42069172e-32,  3.46243580e-32,\n",
       "        -2.60006343e-32,  2.77510058e-32, -5.45814349e-32,\n",
       "         4.53136404e-32, -8.01958163e-33,  7.74365276e-33,\n",
       "        -1.31081957e-32],\n",
       "       [-2.42069172e-32,  2.70117297e-31, -1.15897670e-31,\n",
       "        -2.18894494e-32,  3.61184692e-32, -4.94076588e-32,\n",
       "         3.07720376e-32, -1.61339578e-32,  3.29164460e-33,\n",
       "         6.71904772e-35],\n",
       "       [ 3.46243580e-32, -1.15897670e-31,  4.34869417e-32,\n",
       "         8.72309242e-33, -1.82191170e-32,  2.61929560e-32,\n",
       "        -1.68732512e-32,  7.97220385e-33, -1.97915354e-33,\n",
       "         6.26640417e-35],\n",
       "       [-2.60006343e-32, -2.18894494e-32,  8.72309242e-33,\n",
       "         4.85464496e-34, -1.51707655e-33, -6.91820211e-34,\n",
       "         9.33846712e-34,  8.74505739e-34,  2.35512527e-34,\n",
       "        -1.07169360e-33],\n",
       "       [ 2.77510058e-32,  3.61184692e-32, -1.82191170e-32,\n",
       "        -1.51707655e-33,  4.36918046e-33, -2.54497531e-33,\n",
       "         6.07444891e-35, -2.80556933e-33, -4.75926005e-34,\n",
       "         1.26336499e-33],\n",
       "       [-5.45814349e-32, -4.94076588e-32,  2.61929560e-32,\n",
       "        -6.91820211e-34, -2.54497531e-33,  1.53768153e-33,\n",
       "         1.97047067e-33,  1.13689325e-33,  2.11038833e-34,\n",
       "        -2.23131369e-33],\n",
       "       [ 4.53136404e-32,  3.07720376e-32, -1.68732512e-32,\n",
       "         9.33846712e-34,  6.07444891e-35,  1.97047067e-33,\n",
       "        -2.10966069e-33, -3.43487248e-34, -5.62057347e-34,\n",
       "         1.48319391e-33],\n",
       "       [-8.01958163e-33, -1.61339578e-32,  7.97220385e-33,\n",
       "         8.74505739e-34, -2.80556933e-33,  1.13689325e-33,\n",
       "        -3.43487248e-34,  1.31268598e-33,  1.35519066e-34,\n",
       "        -3.71888982e-34],\n",
       "       [ 7.74365276e-33,  3.29164460e-33, -1.97915354e-33,\n",
       "         2.35512527e-34, -4.75926005e-34,  2.11038833e-34,\n",
       "        -5.62057347e-34,  1.35519066e-34, -1.32737734e-34,\n",
       "         3.05303417e-34],\n",
       "       [-1.31081957e-32,  6.71904772e-35,  6.26640417e-35,\n",
       "        -1.07169360e-33,  1.26336499e-33, -2.23131369e-33,\n",
       "         1.48319391e-33, -3.71888982e-34,  3.05303417e-34,\n",
       "        -4.61520865e-34]])"
      ]
     },
     "metadata": {},
     "execution_count": 50
    }
   ],
   "source": [
    "getG_i(0, B1, B2, L1_E, vecs, w, e, eps)"
   ]
  },
  {
   "cell_type": "code",
   "execution_count": 51,
   "metadata": {},
   "outputs": [],
   "source": [
    "def scal(A, B):\n",
    "    return np.trace(A.T.dot(B))"
   ]
  },
  {
   "cell_type": "code",
   "execution_count": 52,
   "metadata": {},
   "outputs": [],
   "source": [
    "def getDotE(B1, B2, w, e, eps, k, thr=1e-8):\n",
    "    mask=(np.abs(w+eps*e)<thr)\n",
    "    matmask=np.diag(np.logical_not((np.abs(w+eps*e)<1e-8)))\n",
    "    E=np.diag(e)\n",
    "    PE=np.multiply(E, matmask)\n",
    "    \n",
    "    L1_E=HodgeLW_fr(B1, B2, w, e, eps)\n",
    "    vals, vecs=np.linalg.eig(L1_E)\n",
    "    idx = vals.argsort()\n",
    "    vals = vals[idx]\n",
    "    vecs = vecs[:,idx]\n",
    "    #k=np.sum(np.abs(vals)<thr)\n",
    "\n",
    "    GE=np.zeros(L1_E.shape)\n",
    "    for i in range(k+1):\n",
    "        GE+=getG_i(i, B1, B2, L1_E, vecs, w, e, eps)\n",
    "    \n",
    "    kappa=scal(-GE, PE)/scal(PE, PE)\n",
    "    PGE=np.multiply(GE, matmask)\n",
    "    dE=-PGE-kappa*PE\n",
    "    return dE"
   ]
  },
  {
   "cell_type": "code",
   "execution_count": 53,
   "metadata": {},
   "outputs": [
    {
     "output_type": "execute_result",
     "data": {
      "text/plain": [
       "array([0.51143925, 0.41940546, 0.9197626 , 0.89397508, 0.72522364,\n",
       "       0.5589356 , 0.19747292, 0.81747278, 0.49995244, 0.3628088 ])"
      ]
     },
     "metadata": {},
     "execution_count": 53
    }
   ],
   "source": [
    "np.sqrt(w)"
   ]
  },
  {
   "cell_type": "code",
   "execution_count": 54,
   "metadata": {},
   "outputs": [
    {
     "output_type": "stream",
     "name": "stdout",
     "text": [
      "time:  0  ||   0.06002833487770857\n"
     ]
    },
    {
     "output_type": "error",
     "ename": "KeyboardInterrupt",
     "evalue": "",
     "traceback": [
      "\u001b[0;31m---------------------------------------------------------------------------\u001b[0m",
      "\u001b[0;31mKeyboardInterrupt\u001b[0m                         Traceback (most recent call last)",
      "\u001b[0;32m<ipython-input-54-ab10346ff157>\u001b[0m in \u001b[0;36m<module>\u001b[0;34m\u001b[0m\n\u001b[1;32m     22\u001b[0m         \u001b[0;32mwhile\u001b[0m \u001b[0;32mTrue\u001b[0m\u001b[0;34m:\u001b[0m\u001b[0;34m\u001b[0m\u001b[0;34m\u001b[0m\u001b[0m\n\u001b[1;32m     23\u001b[0m             \u001b[0me\u001b[0m\u001b[0;34m=\u001b[0m\u001b[0me0\u001b[0m\u001b[0;34m\u001b[0m\u001b[0;34m\u001b[0m\u001b[0m\n\u001b[0;32m---> 24\u001b[0;31m             \u001b[0mdE\u001b[0m\u001b[0;34m=\u001b[0m\u001b[0mgetDotE\u001b[0m\u001b[0;34m(\u001b[0m\u001b[0mB1\u001b[0m\u001b[0;34m,\u001b[0m \u001b[0mB2\u001b[0m\u001b[0;34m,\u001b[0m \u001b[0mw\u001b[0m\u001b[0;34m,\u001b[0m \u001b[0me\u001b[0m\u001b[0;34m,\u001b[0m \u001b[0meps\u001b[0m\u001b[0;34m,\u001b[0m \u001b[0;36m1\u001b[0m\u001b[0;34m)\u001b[0m\u001b[0;34m\u001b[0m\u001b[0;34m\u001b[0m\u001b[0m\n\u001b[0m\u001b[1;32m     25\u001b[0m             \u001b[0mE1\u001b[0m\u001b[0;34m=\u001b[0m\u001b[0mnp\u001b[0m\u001b[0;34m.\u001b[0m\u001b[0mdiag\u001b[0m\u001b[0;34m(\u001b[0m\u001b[0me\u001b[0m\u001b[0;34m)\u001b[0m\u001b[0;34m+\u001b[0m\u001b[0mh\u001b[0m\u001b[0;34m*\u001b[0m\u001b[0mdE\u001b[0m\u001b[0;34m\u001b[0m\u001b[0;34m\u001b[0m\u001b[0m\n\u001b[1;32m     26\u001b[0m             \u001b[0me\u001b[0m\u001b[0;34m=\u001b[0m\u001b[0mnp\u001b[0m\u001b[0;34m.\u001b[0m\u001b[0mdiag\u001b[0m\u001b[0;34m(\u001b[0m\u001b[0mE1\u001b[0m\u001b[0;34m)\u001b[0m\u001b[0;34m\u001b[0m\u001b[0;34m\u001b[0m\u001b[0m\n",
      "\u001b[0;32m<ipython-input-52-ecf6d2cca1ab>\u001b[0m in \u001b[0;36mgetDotE\u001b[0;34m(B1, B2, w, e, eps, k, thr)\u001b[0m\n\u001b[1;32m     14\u001b[0m     \u001b[0mGE\u001b[0m\u001b[0;34m=\u001b[0m\u001b[0mnp\u001b[0m\u001b[0;34m.\u001b[0m\u001b[0mzeros\u001b[0m\u001b[0;34m(\u001b[0m\u001b[0mL1_E\u001b[0m\u001b[0;34m.\u001b[0m\u001b[0mshape\u001b[0m\u001b[0;34m)\u001b[0m\u001b[0;34m\u001b[0m\u001b[0;34m\u001b[0m\u001b[0m\n\u001b[1;32m     15\u001b[0m     \u001b[0;32mfor\u001b[0m \u001b[0mi\u001b[0m \u001b[0;32min\u001b[0m \u001b[0mrange\u001b[0m\u001b[0;34m(\u001b[0m\u001b[0mk\u001b[0m\u001b[0;34m+\u001b[0m\u001b[0;36m1\u001b[0m\u001b[0;34m)\u001b[0m\u001b[0;34m:\u001b[0m\u001b[0;34m\u001b[0m\u001b[0;34m\u001b[0m\u001b[0m\n\u001b[0;32m---> 16\u001b[0;31m         \u001b[0mGE\u001b[0m\u001b[0;34m+=\u001b[0m\u001b[0mgetG_i\u001b[0m\u001b[0;34m(\u001b[0m\u001b[0mi\u001b[0m\u001b[0;34m,\u001b[0m \u001b[0mB1\u001b[0m\u001b[0;34m,\u001b[0m \u001b[0mB2\u001b[0m\u001b[0;34m,\u001b[0m \u001b[0mL1_E\u001b[0m\u001b[0;34m,\u001b[0m \u001b[0mvecs\u001b[0m\u001b[0;34m,\u001b[0m \u001b[0mw\u001b[0m\u001b[0;34m,\u001b[0m \u001b[0me\u001b[0m\u001b[0;34m,\u001b[0m \u001b[0meps\u001b[0m\u001b[0;34m)\u001b[0m\u001b[0;34m\u001b[0m\u001b[0;34m\u001b[0m\u001b[0m\n\u001b[0m\u001b[1;32m     17\u001b[0m \u001b[0;34m\u001b[0m\u001b[0m\n\u001b[1;32m     18\u001b[0m     \u001b[0mkappa\u001b[0m\u001b[0;34m=\u001b[0m\u001b[0mscal\u001b[0m\u001b[0;34m(\u001b[0m\u001b[0;34m-\u001b[0m\u001b[0mGE\u001b[0m\u001b[0;34m,\u001b[0m \u001b[0mPE\u001b[0m\u001b[0;34m)\u001b[0m\u001b[0;34m/\u001b[0m\u001b[0mscal\u001b[0m\u001b[0;34m(\u001b[0m\u001b[0mPE\u001b[0m\u001b[0;34m,\u001b[0m \u001b[0mPE\u001b[0m\u001b[0;34m)\u001b[0m\u001b[0;34m\u001b[0m\u001b[0;34m\u001b[0m\u001b[0m\n",
      "\u001b[0;32m<ipython-input-49-39e9c587153d>\u001b[0m in \u001b[0;36mgetG_i\u001b[0;34m(i, B1, B2, L1_E, vecs, w, e, eps)\u001b[0m\n\u001b[1;32m      9\u001b[0m     \u001b[0mx\u001b[0m\u001b[0;34m=\u001b[0m\u001b[0mvecs\u001b[0m\u001b[0;34m[\u001b[0m\u001b[0;34m:\u001b[0m\u001b[0;34m,\u001b[0m \u001b[0mi\u001b[0m\u001b[0;34m]\u001b[0m\u001b[0;34m.\u001b[0m\u001b[0mreshape\u001b[0m\u001b[0;34m(\u001b[0m\u001b[0;34m-\u001b[0m\u001b[0;36m1\u001b[0m\u001b[0;34m,\u001b[0m \u001b[0;36m1\u001b[0m\u001b[0;34m)\u001b[0m\u001b[0;34m\u001b[0m\u001b[0;34m\u001b[0m\u001b[0m\n\u001b[1;32m     10\u001b[0m     \u001b[0mDt\u001b[0m\u001b[0;34m=\u001b[0m\u001b[0mgetDt\u001b[0m\u001b[0;34m(\u001b[0m\u001b[0mB2\u001b[0m\u001b[0;34m,\u001b[0m \u001b[0mW\u001b[0m\u001b[0;34m)\u001b[0m\u001b[0;34m\u001b[0m\u001b[0;34m\u001b[0m\u001b[0m\n\u001b[0;32m---> 11\u001b[0;31m     \u001b[0mP2\u001b[0m\u001b[0;34m=\u001b[0m\u001b[0minv\u001b[0m\u001b[0;34m(\u001b[0m\u001b[0mW\u001b[0m\u001b[0;34m)\u001b[0m\u001b[0;34m.\u001b[0m\u001b[0mdot\u001b[0m\u001b[0;34m(\u001b[0m\u001b[0mB2\u001b[0m\u001b[0;34m.\u001b[0m\u001b[0mdot\u001b[0m\u001b[0;34m(\u001b[0m\u001b[0mDt\u001b[0m\u001b[0;34m.\u001b[0m\u001b[0mdot\u001b[0m\u001b[0;34m(\u001b[0m\u001b[0mDt\u001b[0m\u001b[0;34m.\u001b[0m\u001b[0mdot\u001b[0m\u001b[0;34m(\u001b[0m\u001b[0mB2\u001b[0m\u001b[0;34m.\u001b[0m\u001b[0mT\u001b[0m\u001b[0;34m.\u001b[0m\u001b[0mdot\u001b[0m\u001b[0;34m(\u001b[0m\u001b[0minv\u001b[0m\u001b[0;34m(\u001b[0m\u001b[0mW\u001b[0m\u001b[0;34m)\u001b[0m\u001b[0;34m)\u001b[0m\u001b[0;34m)\u001b[0m\u001b[0;34m)\u001b[0m\u001b[0;34m)\u001b[0m\u001b[0;34m)\u001b[0m\u001b[0;34m\u001b[0m\u001b[0;34m\u001b[0m\u001b[0m\n\u001b[0m\u001b[1;32m     12\u001b[0m     \u001b[0mw_t\u001b[0m\u001b[0;34m=\u001b[0m\u001b[0mnp\u001b[0m\u001b[0;34m.\u001b[0m\u001b[0mdiag\u001b[0m\u001b[0;34m(\u001b[0m\u001b[0mW\u001b[0m\u001b[0;34m)\u001b[0m\u001b[0;34m.\u001b[0m\u001b[0mreshape\u001b[0m\u001b[0;34m(\u001b[0m\u001b[0;34m-\u001b[0m\u001b[0;36m1\u001b[0m\u001b[0;34m,\u001b[0m \u001b[0;36m1\u001b[0m\u001b[0;34m)\u001b[0m\u001b[0;34m\u001b[0m\u001b[0;34m\u001b[0m\u001b[0m\n\u001b[1;32m     13\u001b[0m     \u001b[0mones\u001b[0m\u001b[0;34m=\u001b[0m\u001b[0mnp\u001b[0m\u001b[0;34m.\u001b[0m\u001b[0mones\u001b[0m\u001b[0;34m(\u001b[0m\u001b[0mB2\u001b[0m\u001b[0;34m.\u001b[0m\u001b[0mshape\u001b[0m\u001b[0;34m[\u001b[0m\u001b[0;36m1\u001b[0m\u001b[0;34m]\u001b[0m\u001b[0;34m)\u001b[0m\u001b[0;34m.\u001b[0m\u001b[0mreshape\u001b[0m\u001b[0;34m(\u001b[0m\u001b[0;34m-\u001b[0m\u001b[0;36m1\u001b[0m\u001b[0;34m,\u001b[0m \u001b[0;36m1\u001b[0m\u001b[0;34m)\u001b[0m\u001b[0;34m\u001b[0m\u001b[0;34m\u001b[0m\u001b[0m\n",
      "\u001b[0;31mKeyboardInterrupt\u001b[0m: "
     ]
    }
   ],
   "source": [
    "eps=0.0\n",
    "e=np.array([0,0,0,0,0,1,0,0,0,0])\n",
    "e=np.diag(getDotE(B1, B2, w, e, eps, 1))\n",
    "\n",
    "#e=np.random.uniform(-1, 0, w.shape[0])\n",
    "e=e/np.linalg.norm(e)\n",
    "#e=np.array([0,0,0,0,0,0,0,-1,0,0])\n",
    "eps=0.81747278,\n",
    "\n",
    "p=0.001\n",
    "L1_E=HodgeLW_fr(B1, B2, w, e, eps)\n",
    "track=[getFk_l2(L1_E, 1)]\n",
    "h=1e-3\n",
    "t_cur=0\n",
    "log=[]\n",
    "ts=[0]\n",
    "#fl=0\n",
    "\n",
    "print('time: ', t_cur, ' ||  ', track[-1])\n",
    "\n",
    "for i in range(40000):\n",
    "    #h=1e-3\n",
    "    e0=e\n",
    "\n",
    "    while True:\n",
    "        while True:\n",
    "            e=e0\n",
    "            dE=getDotE(B1, B2, w, e, eps, 1)\n",
    "            E1=np.diag(e)+h*dE\n",
    "            e=np.diag(E1)\n",
    "            if np.sum(np.sqrt(w)+eps*e<0)>0:\n",
    "                h=h/2\n",
    "                #print('ups')\n",
    "            else:\n",
    "                break\n",
    "        L1_E=HodgeLW_fr(B1, B2, w, e, eps)\n",
    "        #if not(fl):\n",
    "        #    pass\n",
    "        #else:\n",
    "        #    fl=0\n",
    "        #    break\n",
    "        if getFk_l2(L1_E, 1)>track[-1]:\n",
    "            h=h/2\n",
    "        else:\n",
    "            h=h*2\n",
    "            break\n",
    "    L1_E=HodgeLW_fr(B1, B2, w, e, eps)\n",
    "    log.append(np.sort(np.linalg.eig(L1_E)[0]))\n",
    "    track.append(getFk_l2(L1_E, 1))\n",
    "    dE=getDotE(B1, B2, w, e, eps, 1)\n",
    "    \n",
    "    if i % 10000 ==0:\n",
    "        print('time: ', t_cur, ' ||   E_norm:', scal(E1, E1), ',    dE-orth:', scal(dE, E1), track[-1])\n",
    "    t_cur+=h\n",
    "    ts.append(t_cur)\n",
    "   \n",
    "    #if np.std(track[-50:])/track[-1]<0.01:\n",
    "        #print('!')\n",
    "    #    h=1e-3\n",
    "    #    fl=1"
   ]
  },
  {
   "cell_type": "code",
   "execution_count": null,
   "metadata": {},
   "outputs": [],
   "source": [
    "plt.plot(ts[:], track)"
   ]
  },
  {
   "cell_type": "code",
   "execution_count": null,
   "metadata": {},
   "outputs": [],
   "source": [
    "simpleDrawB1(B1, w, points, e=0, eps=0)\n",
    "simpleDrawB1(B1, w, points, e, eps)"
   ]
  },
  {
   "cell_type": "code",
   "execution_count": null,
   "metadata": {},
   "outputs": [],
   "source": [
    "log=np.array(log)\n",
    "\n",
    "plt.figure(figsize=(16, 5))\n",
    "plt.plot(ts[1:], log[:, :3])"
   ]
  },
  {
   "cell_type": "code",
   "execution_count": null,
   "metadata": {},
   "outputs": [],
   "source": []
  }
 ]
}